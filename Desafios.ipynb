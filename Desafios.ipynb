{
 "cells": [
  {
   "cell_type": "markdown",
   "metadata": {
    "colab_type": "text",
    "id": "view-in-github"
   },
   "source": [
    "<a href=\"https://colab.research.google.com/github/orlandojsjunior/Python_para_Data_Science-Pandas_selecionando_e_agrupando_dados/blob/main/desafio_aula_01.ipynb\" target=\"_parent\"><img src=\"https://colab.research.google.com/assets/colab-badge.svg\" alt=\"Open In Colab\"/></a>"
   ]
  },
  {
   "cell_type": "markdown",
   "metadata": {
    "id": "SRNJCEEz35BW"
   },
   "source": [
    "# Aula 1 - Atividade 8 - Desafio: hora da prática"
   ]
  },
  {
   "cell_type": "markdown",
   "metadata": {
    "id": "PnMdKzxS35BX"
   },
   "source": [
    "Chegou o momento de praticar! Vamos aplicar os conceitos aprendidos durante a aula a partir de algumas atividades. Solucione os problemas propostos através de códigos utilizando a base de dados disponibilizada no curso."
   ]
  },
  {
   "cell_type": "markdown",
   "metadata": {
    "id": "leINu1jO35BX"
   },
   "source": [
    "#### Importando as Bibliotecas e carregando a base de dados"
   ]
  },
  {
   "cell_type": "code",
   "execution_count": 22,
   "metadata": {
    "colab": {
     "base_uri": "https://localhost:8080/"
    },
    "id": "rwXnd7ej35BX",
    "outputId": "d7cccfb2-f905-49e6-83cc-3c35f45b9025"
   },
   "outputs": [
    {
     "name": "stdout",
     "output_type": "stream",
     "text": [
      "Requirement already satisfied: openpyxl in c:\\users\\orlan\\appdata\\local\\programs\\python\\python313\\lib\\site-packages (3.1.5)\n",
      "Requirement already satisfied: et-xmlfile in c:\\users\\orlan\\appdata\\local\\programs\\python\\python313\\lib\\site-packages (from openpyxl) (2.0.0)\n",
      "Note: you may need to restart the kernel to use updated packages.\n"
     ]
    }
   ],
   "source": [
    "# Biblioteca openpyxl para ler arquivos Excel no pandas.\n",
    "\n",
    "%pip install openpyxl"
   ]
  },
  {
   "cell_type": "code",
   "execution_count": 23,
   "metadata": {
    "id": "kYmMv0E235BY"
   },
   "outputs": [],
   "source": [
    "import pandas as pd"
   ]
  },
  {
   "cell_type": "code",
   "execution_count": 24,
   "metadata": {
    "colab": {
     "base_uri": "https://localhost:8080/"
    },
    "id": "NgfswmPy35BY",
    "outputId": "098b5a94-55a3-4dd6-f154-68d66c28ba4a"
   },
   "outputs": [
    {
     "name": "stderr",
     "output_type": "stream",
     "text": [
      "c:\\Users\\orlan\\AppData\\Local\\Programs\\Python\\Python313\\Lib\\site-packages\\openpyxl\\worksheet\\_reader.py:329: UserWarning: Unknown extension is not supported and will be removed\n",
      "  warn(msg)\n"
     ]
    }
   ],
   "source": [
    "URL = 'https://github.com/orlandojsjunior/Python_para_Data_Science-Pandas_selecionando_e_agrupando_dados/raw/refs/heads/main/Base%20de%20dados/1-SEEG10_GERAL-BR_UF_2022.10.27-FINAL-SITE.xlsx'\n",
    "\n",
    "emissoes_gases = pd.read_excel(URL, sheet_name = 'GEE Estados')"
   ]
  },
  {
   "cell_type": "markdown",
   "metadata": {
    "id": "lttsXtKq35BY"
   },
   "source": [
    "### 1) Encontre os valores únicos das colunas \"Nível 1 - Setor\" e \"Estado\" para identificar as atividades econômicas presentes na base de dados e se todos os Estados do Brasil estão presentes no DataFrame."
   ]
  },
  {
   "cell_type": "code",
   "execution_count": 25,
   "metadata": {
    "colab": {
     "base_uri": "https://localhost:8080/"
    },
    "id": "XBZes_LC35BY",
    "outputId": "b737dfc2-2d13-42a0-c28c-41c93998daa8"
   },
   "outputs": [
    {
     "data": {
      "text/plain": [
       "array(['Processos Industriais', 'Agropecuária', 'Energia', 'Resíduos ',\n",
       "       'Mudança de Uso da Terra e Floresta'], dtype=object)"
      ]
     },
     "execution_count": 25,
     "metadata": {},
     "output_type": "execute_result"
    }
   ],
   "source": [
    "emissoes_gases['Nível 1 - Setor'].unique()"
   ]
  },
  {
   "cell_type": "markdown",
   "metadata": {
    "id": "O_bStmE035BY"
   },
   "source": [
    "### 2) Filtre o DataFrame somente com os dados dos Estados da região Sul do Brasil."
   ]
  },
  {
   "cell_type": "code",
   "execution_count": 26,
   "metadata": {
    "colab": {
     "base_uri": "https://localhost:8080/"
    },
    "id": "apiuBLtB35BZ",
    "outputId": "95d9c009-d5c6-43fe-fcd5-e31edfafcc72"
   },
   "outputs": [
    {
     "data": {
      "text/plain": [
       "array(['SP', 'BA', 'RJ', 'MG', 'SE', 'PR', nan, 'RO', 'AM', 'PA', 'TO',\n",
       "       'MA', 'PI', 'CE', 'RN', 'PB', 'PE', 'AL', 'MT', 'MS', 'GO', 'DF',\n",
       "       'ES', 'SC', 'RS', 'AC', 'AP', 'RR', 'BR'], dtype=object)"
      ]
     },
     "execution_count": 26,
     "metadata": {},
     "output_type": "execute_result"
    }
   ],
   "source": [
    "emissoes_gases['Estado'].unique()"
   ]
  },
  {
   "cell_type": "markdown",
   "metadata": {
    "id": "uSoue4ov35BZ"
   },
   "source": [
    "### 3) Filtre o DataFrame somente com os dados de \"Mudança de Uso da Terra e Floresta\" que sejam do Estado do Amazonas."
   ]
  },
  {
   "cell_type": "code",
   "execution_count": 27,
   "metadata": {
    "colab": {
     "base_uri": "https://localhost:8080/",
     "height": 982
    },
    "id": "WPRP-u7C35BZ",
    "outputId": "b88bd1c8-8574-4b28-990a-168babe51201"
   },
   "outputs": [
    {
     "data": {
      "text/html": [
       "<div>\n",
       "<style scoped>\n",
       "    .dataframe tbody tr th:only-of-type {\n",
       "        vertical-align: middle;\n",
       "    }\n",
       "\n",
       "    .dataframe tbody tr th {\n",
       "        vertical-align: top;\n",
       "    }\n",
       "\n",
       "    .dataframe thead th {\n",
       "        text-align: right;\n",
       "    }\n",
       "</style>\n",
       "<table border=\"1\" class=\"dataframe\">\n",
       "  <thead>\n",
       "    <tr style=\"text-align: right;\">\n",
       "      <th></th>\n",
       "      <th>Nível 1 - Setor</th>\n",
       "      <th>Nível 2</th>\n",
       "      <th>Nível 3</th>\n",
       "      <th>Nível 4</th>\n",
       "      <th>Nível 5</th>\n",
       "      <th>Nível 6</th>\n",
       "      <th>Emissão / Remoção / Bunker</th>\n",
       "      <th>Gás</th>\n",
       "      <th>Estado</th>\n",
       "      <th>Atividade Econômica</th>\n",
       "      <th>...</th>\n",
       "      <th>2012</th>\n",
       "      <th>2013</th>\n",
       "      <th>2014</th>\n",
       "      <th>2015</th>\n",
       "      <th>2016</th>\n",
       "      <th>2017</th>\n",
       "      <th>2018</th>\n",
       "      <th>2019</th>\n",
       "      <th>2020</th>\n",
       "      <th>2021</th>\n",
       "    </tr>\n",
       "  </thead>\n",
       "  <tbody>\n",
       "    <tr>\n",
       "      <th>35</th>\n",
       "      <td>Processos Industriais</td>\n",
       "      <td>Indústria Química</td>\n",
       "      <td>Produção de Amônia</td>\n",
       "      <td>NaN</td>\n",
       "      <td>NaN</td>\n",
       "      <td>NaN</td>\n",
       "      <td>Emissão</td>\n",
       "      <td>CO2 (t)</td>\n",
       "      <td>PR</td>\n",
       "      <td>OUTRA_IND</td>\n",
       "      <td>...</td>\n",
       "      <td>4.562042e+05</td>\n",
       "      <td>4.682616e+05</td>\n",
       "      <td>5.151689e+05</td>\n",
       "      <td>5.151689e+05</td>\n",
       "      <td>5.151689e+05</td>\n",
       "      <td>5.151689e+05</td>\n",
       "      <td>5.151689e+05</td>\n",
       "      <td>5.151689e+05</td>\n",
       "      <td>5.151689e+05</td>\n",
       "      <td>5.151689e+05</td>\n",
       "    </tr>\n",
       "    <tr>\n",
       "      <th>36</th>\n",
       "      <td>Processos Industriais</td>\n",
       "      <td>Indústria Química</td>\n",
       "      <td>Produção de Amônia</td>\n",
       "      <td>NaN</td>\n",
       "      <td>NaN</td>\n",
       "      <td>NaN</td>\n",
       "      <td>Emissão</td>\n",
       "      <td>CO2e (t) GWP-AR2</td>\n",
       "      <td>PR</td>\n",
       "      <td>OUTRA_IND</td>\n",
       "      <td>...</td>\n",
       "      <td>4.562042e+05</td>\n",
       "      <td>4.682616e+05</td>\n",
       "      <td>5.151689e+05</td>\n",
       "      <td>5.151689e+05</td>\n",
       "      <td>5.151689e+05</td>\n",
       "      <td>5.151689e+05</td>\n",
       "      <td>5.151689e+05</td>\n",
       "      <td>5.151689e+05</td>\n",
       "      <td>5.151689e+05</td>\n",
       "      <td>5.151689e+05</td>\n",
       "    </tr>\n",
       "    <tr>\n",
       "      <th>37</th>\n",
       "      <td>Processos Industriais</td>\n",
       "      <td>Indústria Química</td>\n",
       "      <td>Produção de Amônia</td>\n",
       "      <td>NaN</td>\n",
       "      <td>NaN</td>\n",
       "      <td>NaN</td>\n",
       "      <td>Emissão</td>\n",
       "      <td>CO2e (t) GTP-AR2</td>\n",
       "      <td>PR</td>\n",
       "      <td>OUTRA_IND</td>\n",
       "      <td>...</td>\n",
       "      <td>4.562042e+05</td>\n",
       "      <td>4.682616e+05</td>\n",
       "      <td>5.151689e+05</td>\n",
       "      <td>5.151689e+05</td>\n",
       "      <td>5.151689e+05</td>\n",
       "      <td>5.151689e+05</td>\n",
       "      <td>5.151689e+05</td>\n",
       "      <td>5.151689e+05</td>\n",
       "      <td>5.151689e+05</td>\n",
       "      <td>5.151689e+05</td>\n",
       "    </tr>\n",
       "    <tr>\n",
       "      <th>110</th>\n",
       "      <td>Processos Industriais</td>\n",
       "      <td>Produtos Minerais</td>\n",
       "      <td>Produção de Cimento</td>\n",
       "      <td>NaN</td>\n",
       "      <td>NaN</td>\n",
       "      <td>NaN</td>\n",
       "      <td>Emissão</td>\n",
       "      <td>CO2 (t)</td>\n",
       "      <td>PR</td>\n",
       "      <td>CIM</td>\n",
       "      <td>...</td>\n",
       "      <td>2.012596e+06</td>\n",
       "      <td>2.212002e+06</td>\n",
       "      <td>2.241143e+06</td>\n",
       "      <td>2.176752e+06</td>\n",
       "      <td>2.279061e+06</td>\n",
       "      <td>2.115372e+06</td>\n",
       "      <td>2.173266e+06</td>\n",
       "      <td>2.230656e+06</td>\n",
       "      <td>2.488650e+06</td>\n",
       "      <td>2.845457e+06</td>\n",
       "    </tr>\n",
       "    <tr>\n",
       "      <th>111</th>\n",
       "      <td>Processos Industriais</td>\n",
       "      <td>Produtos Minerais</td>\n",
       "      <td>Produção de Cimento</td>\n",
       "      <td>NaN</td>\n",
       "      <td>NaN</td>\n",
       "      <td>NaN</td>\n",
       "      <td>Emissão</td>\n",
       "      <td>CO2 (t)</td>\n",
       "      <td>SC</td>\n",
       "      <td>CIM</td>\n",
       "      <td>...</td>\n",
       "      <td>7.126368e+05</td>\n",
       "      <td>6.421719e+05</td>\n",
       "      <td>8.163383e+05</td>\n",
       "      <td>6.769844e+05</td>\n",
       "      <td>5.272686e+05</td>\n",
       "      <td>5.143665e+05</td>\n",
       "      <td>5.130451e+05</td>\n",
       "      <td>5.451073e+05</td>\n",
       "      <td>6.144431e+05</td>\n",
       "      <td>7.179804e+05</td>\n",
       "    </tr>\n",
       "    <tr>\n",
       "      <th>...</th>\n",
       "      <td>...</td>\n",
       "      <td>...</td>\n",
       "      <td>...</td>\n",
       "      <td>...</td>\n",
       "      <td>...</td>\n",
       "      <td>...</td>\n",
       "      <td>...</td>\n",
       "      <td>...</td>\n",
       "      <td>...</td>\n",
       "      <td>...</td>\n",
       "      <td>...</td>\n",
       "      <td>...</td>\n",
       "      <td>...</td>\n",
       "      <td>...</td>\n",
       "      <td>...</td>\n",
       "      <td>...</td>\n",
       "      <td>...</td>\n",
       "      <td>...</td>\n",
       "      <td>...</td>\n",
       "      <td>...</td>\n",
       "      <td>...</td>\n",
       "    </tr>\n",
       "    <tr>\n",
       "      <th>103221</th>\n",
       "      <td>Mudança de Uso da Terra e Floresta</td>\n",
       "      <td>Resíduos Florestais</td>\n",
       "      <td>Pampa</td>\n",
       "      <td>NaN</td>\n",
       "      <td>Desmatamento</td>\n",
       "      <td>NaN</td>\n",
       "      <td>Emissão</td>\n",
       "      <td>CO2e (t) GWP-AR2</td>\n",
       "      <td>RS</td>\n",
       "      <td>AGROPEC</td>\n",
       "      <td>...</td>\n",
       "      <td>1.108518e+06</td>\n",
       "      <td>1.479183e+06</td>\n",
       "      <td>9.718840e+05</td>\n",
       "      <td>9.948190e+05</td>\n",
       "      <td>7.698680e+05</td>\n",
       "      <td>9.057280e+05</td>\n",
       "      <td>9.238730e+05</td>\n",
       "      <td>1.046432e+06</td>\n",
       "      <td>1.439095e+06</td>\n",
       "      <td>1.432812e+06</td>\n",
       "    </tr>\n",
       "    <tr>\n",
       "      <th>103222</th>\n",
       "      <td>Mudança de Uso da Terra e Floresta</td>\n",
       "      <td>Resíduos Florestais</td>\n",
       "      <td>Pampa</td>\n",
       "      <td>NaN</td>\n",
       "      <td>Desmatamento</td>\n",
       "      <td>NaN</td>\n",
       "      <td>Emissão</td>\n",
       "      <td>CO2e (t) GWP-AR4</td>\n",
       "      <td>RS</td>\n",
       "      <td>AGROPEC</td>\n",
       "      <td>...</td>\n",
       "      <td>1.196999e+06</td>\n",
       "      <td>1.599471e+06</td>\n",
       "      <td>1.045298e+06</td>\n",
       "      <td>1.070678e+06</td>\n",
       "      <td>8.308050e+05</td>\n",
       "      <td>9.748940e+05</td>\n",
       "      <td>9.924510e+05</td>\n",
       "      <td>1.124747e+06</td>\n",
       "      <td>1.543126e+06</td>\n",
       "      <td>1.541087e+06</td>\n",
       "    </tr>\n",
       "    <tr>\n",
       "      <th>103223</th>\n",
       "      <td>Mudança de Uso da Terra e Floresta</td>\n",
       "      <td>Resíduos Florestais</td>\n",
       "      <td>Pampa</td>\n",
       "      <td>NaN</td>\n",
       "      <td>Desmatamento</td>\n",
       "      <td>NaN</td>\n",
       "      <td>Emissão</td>\n",
       "      <td>CO2e (t) GWP-AR5</td>\n",
       "      <td>RS</td>\n",
       "      <td>AGROPEC</td>\n",
       "      <td>...</td>\n",
       "      <td>1.221927e+06</td>\n",
       "      <td>1.635136e+06</td>\n",
       "      <td>1.062603e+06</td>\n",
       "      <td>1.089187e+06</td>\n",
       "      <td>8.475340e+05</td>\n",
       "      <td>9.918540e+05</td>\n",
       "      <td>1.007627e+06</td>\n",
       "      <td>1.142614e+06</td>\n",
       "      <td>1.563684e+06</td>\n",
       "      <td>1.566694e+06</td>\n",
       "    </tr>\n",
       "    <tr>\n",
       "      <th>103224</th>\n",
       "      <td>Mudança de Uso da Terra e Floresta</td>\n",
       "      <td>Resíduos Florestais</td>\n",
       "      <td>Pampa</td>\n",
       "      <td>NaN</td>\n",
       "      <td>Desmatamento</td>\n",
       "      <td>NaN</td>\n",
       "      <td>Emissão</td>\n",
       "      <td>CO2e (t) GWP-AR6</td>\n",
       "      <td>RS</td>\n",
       "      <td>AGROPEC</td>\n",
       "      <td>...</td>\n",
       "      <td>1.232994e+06</td>\n",
       "      <td>1.649637e+06</td>\n",
       "      <td>1.072887e+06</td>\n",
       "      <td>1.099601e+06</td>\n",
       "      <td>8.553060e+05</td>\n",
       "      <td>1.001321e+06</td>\n",
       "      <td>1.017557e+06</td>\n",
       "      <td>1.153771e+06</td>\n",
       "      <td>1.579514e+06</td>\n",
       "      <td>1.581831e+06</td>\n",
       "    </tr>\n",
       "    <tr>\n",
       "      <th>103225</th>\n",
       "      <td>Mudança de Uso da Terra e Floresta</td>\n",
       "      <td>Resíduos Florestais</td>\n",
       "      <td>Pampa</td>\n",
       "      <td>NaN</td>\n",
       "      <td>Desmatamento</td>\n",
       "      <td>NaN</td>\n",
       "      <td>Emissão</td>\n",
       "      <td>N2O (t)</td>\n",
       "      <td>RS</td>\n",
       "      <td>AGROPEC</td>\n",
       "      <td>...</td>\n",
       "      <td>1.726602e+03</td>\n",
       "      <td>2.272649e+03</td>\n",
       "      <td>1.572510e+03</td>\n",
       "      <td>1.599308e+03</td>\n",
       "      <td>1.206486e+03</td>\n",
       "      <td>1.454739e+03</td>\n",
       "      <td>1.511353e+03</td>\n",
       "      <td>1.704000e+03</td>\n",
       "      <td>2.399000e+03</td>\n",
       "      <td>2.313000e+03</td>\n",
       "    </tr>\n",
       "  </tbody>\n",
       "</table>\n",
       "<p>12212 rows × 63 columns</p>\n",
       "</div>"
      ],
      "text/plain": [
       "                           Nível 1 - Setor              Nível 2  \\\n",
       "35                   Processos Industriais    Indústria Química   \n",
       "36                   Processos Industriais    Indústria Química   \n",
       "37                   Processos Industriais    Indústria Química   \n",
       "110                  Processos Industriais    Produtos Minerais   \n",
       "111                  Processos Industriais    Produtos Minerais   \n",
       "...                                    ...                  ...   \n",
       "103221  Mudança de Uso da Terra e Floresta  Resíduos Florestais   \n",
       "103222  Mudança de Uso da Terra e Floresta  Resíduos Florestais   \n",
       "103223  Mudança de Uso da Terra e Floresta  Resíduos Florestais   \n",
       "103224  Mudança de Uso da Terra e Floresta  Resíduos Florestais   \n",
       "103225  Mudança de Uso da Terra e Floresta  Resíduos Florestais   \n",
       "\n",
       "                    Nível 3 Nível 4       Nível 5 Nível 6  \\\n",
       "35       Produção de Amônia     NaN           NaN     NaN   \n",
       "36       Produção de Amônia     NaN           NaN     NaN   \n",
       "37       Produção de Amônia     NaN           NaN     NaN   \n",
       "110     Produção de Cimento     NaN           NaN     NaN   \n",
       "111     Produção de Cimento     NaN           NaN     NaN   \n",
       "...                     ...     ...           ...     ...   \n",
       "103221                Pampa     NaN  Desmatamento     NaN   \n",
       "103222                Pampa     NaN  Desmatamento     NaN   \n",
       "103223                Pampa     NaN  Desmatamento     NaN   \n",
       "103224                Pampa     NaN  Desmatamento     NaN   \n",
       "103225                Pampa     NaN  Desmatamento     NaN   \n",
       "\n",
       "       Emissão / Remoção / Bunker               Gás Estado  \\\n",
       "35                        Emissão           CO2 (t)     PR   \n",
       "36                        Emissão  CO2e (t) GWP-AR2     PR   \n",
       "37                        Emissão  CO2e (t) GTP-AR2     PR   \n",
       "110                       Emissão           CO2 (t)     PR   \n",
       "111                       Emissão           CO2 (t)     SC   \n",
       "...                           ...               ...    ...   \n",
       "103221                    Emissão  CO2e (t) GWP-AR2     RS   \n",
       "103222                    Emissão  CO2e (t) GWP-AR4     RS   \n",
       "103223                    Emissão  CO2e (t) GWP-AR5     RS   \n",
       "103224                    Emissão  CO2e (t) GWP-AR6     RS   \n",
       "103225                    Emissão           N2O (t)     RS   \n",
       "\n",
       "       Atividade Econômica  ...          2012          2013          2014  \\\n",
       "35               OUTRA_IND  ...  4.562042e+05  4.682616e+05  5.151689e+05   \n",
       "36               OUTRA_IND  ...  4.562042e+05  4.682616e+05  5.151689e+05   \n",
       "37               OUTRA_IND  ...  4.562042e+05  4.682616e+05  5.151689e+05   \n",
       "110                    CIM  ...  2.012596e+06  2.212002e+06  2.241143e+06   \n",
       "111                    CIM  ...  7.126368e+05  6.421719e+05  8.163383e+05   \n",
       "...                    ...  ...           ...           ...           ...   \n",
       "103221             AGROPEC  ...  1.108518e+06  1.479183e+06  9.718840e+05   \n",
       "103222             AGROPEC  ...  1.196999e+06  1.599471e+06  1.045298e+06   \n",
       "103223             AGROPEC  ...  1.221927e+06  1.635136e+06  1.062603e+06   \n",
       "103224             AGROPEC  ...  1.232994e+06  1.649637e+06  1.072887e+06   \n",
       "103225             AGROPEC  ...  1.726602e+03  2.272649e+03  1.572510e+03   \n",
       "\n",
       "                2015          2016          2017          2018          2019  \\\n",
       "35      5.151689e+05  5.151689e+05  5.151689e+05  5.151689e+05  5.151689e+05   \n",
       "36      5.151689e+05  5.151689e+05  5.151689e+05  5.151689e+05  5.151689e+05   \n",
       "37      5.151689e+05  5.151689e+05  5.151689e+05  5.151689e+05  5.151689e+05   \n",
       "110     2.176752e+06  2.279061e+06  2.115372e+06  2.173266e+06  2.230656e+06   \n",
       "111     6.769844e+05  5.272686e+05  5.143665e+05  5.130451e+05  5.451073e+05   \n",
       "...              ...           ...           ...           ...           ...   \n",
       "103221  9.948190e+05  7.698680e+05  9.057280e+05  9.238730e+05  1.046432e+06   \n",
       "103222  1.070678e+06  8.308050e+05  9.748940e+05  9.924510e+05  1.124747e+06   \n",
       "103223  1.089187e+06  8.475340e+05  9.918540e+05  1.007627e+06  1.142614e+06   \n",
       "103224  1.099601e+06  8.553060e+05  1.001321e+06  1.017557e+06  1.153771e+06   \n",
       "103225  1.599308e+03  1.206486e+03  1.454739e+03  1.511353e+03  1.704000e+03   \n",
       "\n",
       "                2020          2021  \n",
       "35      5.151689e+05  5.151689e+05  \n",
       "36      5.151689e+05  5.151689e+05  \n",
       "37      5.151689e+05  5.151689e+05  \n",
       "110     2.488650e+06  2.845457e+06  \n",
       "111     6.144431e+05  7.179804e+05  \n",
       "...              ...           ...  \n",
       "103221  1.439095e+06  1.432812e+06  \n",
       "103222  1.543126e+06  1.541087e+06  \n",
       "103223  1.563684e+06  1.566694e+06  \n",
       "103224  1.579514e+06  1.581831e+06  \n",
       "103225  2.399000e+03  2.313000e+03  \n",
       "\n",
       "[12212 rows x 63 columns]"
      ]
     },
     "execution_count": 27,
     "metadata": {},
     "output_type": "execute_result"
    }
   ],
   "source": [
    "emissoes_gases[emissoes_gases['Estado'].isin(['PR', 'RS', 'SC'])]"
   ]
  },
  {
   "cell_type": "markdown",
   "metadata": {
    "id": "u0EE58F-35BZ"
   },
   "source": [
    "### 4) Encontre o valor máximo de emissão do ano de 2021 para os dados de \"Agropecuária\" no Estado do Pará."
   ]
  },
  {
   "cell_type": "code",
   "execution_count": 28,
   "metadata": {
    "colab": {
     "base_uri": "https://localhost:8080/"
    },
    "id": "nFvB-5LR35BZ",
    "outputId": "13c07d41-9c49-4800-d04c-d00c26e200d2"
   },
   "outputs": [
    {
     "data": {
      "text/plain": [
       "np.float64(36856969.7986)"
      ]
     },
     "execution_count": 28,
     "metadata": {},
     "output_type": "execute_result"
    }
   ],
   "source": [
    "emissoes_gases.loc[(emissoes_gases['Nível 1 - Setor'] == 'Agropecuária') & (emissoes_gases['Estado'] == 'PA'), 2021].max()"
   ]
  },
  {
   "cell_type": "markdown",
   "metadata": {},
   "source": [
    "# Aula 2 - Atividade 8 Desafio: hora da prática"
   ]
  },
  {
   "cell_type": "markdown",
   "metadata": {},
   "source": [
    "### 1) Faça um agrupamento de dados com base na coluna \"Nível 1 - Setor\" para visualizar o dicionário contendo as chaves de grupos formados e a lista de índices de cada grupo."
   ]
  },
  {
   "cell_type": "code",
   "execution_count": null,
   "metadata": {},
   "outputs": [],
   "source": []
  },
  {
   "cell_type": "markdown",
   "metadata": {},
   "source": [
    "### 2) Faça um agrupamento de dados com base na coluna \"Nível 1 - Setor\" e localize os dados do grupo \"Agropecuária\"."
   ]
  },
  {
   "cell_type": "code",
   "execution_count": null,
   "metadata": {},
   "outputs": [],
   "source": []
  },
  {
   "cell_type": "markdown",
   "metadata": {},
   "source": [
    "### 3) Faça um agrupamento de dados com base na coluna \"Nível 1 - Setor\" para identificar a média de emissão de cada atividade econômica no ano de 2021."
   ]
  },
  {
   "cell_type": "code",
   "execution_count": null,
   "metadata": {},
   "outputs": [],
   "source": []
  },
  {
   "cell_type": "markdown",
   "metadata": {},
   "source": [
    "### 4) Faça um agrupamento de dados com base na coluna \"Nível 1 - Setor\" para identificar a soma de emissão de cada atividade econômica. Ordene os dados da maior para menor emissão."
   ]
  }
 ],
 "metadata": {
  "colab": {
   "include_colab_link": true,
   "provenance": []
  },
  "kernelspec": {
   "display_name": "Python 3",
   "language": "python",
   "name": "python3"
  },
  "language_info": {
   "codemirror_mode": {
    "name": "ipython",
    "version": 3
   },
   "file_extension": ".py",
   "mimetype": "text/x-python",
   "name": "python",
   "nbconvert_exporter": "python",
   "pygments_lexer": "ipython3",
   "version": "3.13.0"
  }
 },
 "nbformat": 4,
 "nbformat_minor": 0
}
